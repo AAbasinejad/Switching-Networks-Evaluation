{
 "cells": [
  {
   "cell_type": "code",
   "execution_count": 1,
   "metadata": {},
   "outputs": [],
   "source": [
    "import itertools\n",
    "import networkx as nx\n",
    "import matplotlib.pyplot as plt\n",
    "import random\n",
    "import numpy as np\n",
    "import heapq as hp\n",
    "from queue import Queue\n",
    "import tqdm"
   ]
  },
  {
   "cell_type": "code",
   "execution_count": 2,
   "metadata": {},
   "outputs": [],
   "source": [
    "def create_erdos_graph(n, p):\n",
    "    erdos_graph = nx.Graph()\n",
    "    for i in range(n):\n",
    "        erdos_graph.add_node(i)\n",
    "    edges = itertools.combinations(range(n), 2)\n",
    "    for e in edges:\n",
    "        rand = random.uniform(0,1)\n",
    "        if rand < p: \n",
    "            erdos_graph.add_edge(*e)\n",
    "    return erdos_graph\n",
    "\n",
    "def random_vertex(sets, r):    \n",
    "    sets_options = [i for i in range(0, r-1) if sets[i]]\n",
    "    i = random.choice(sets_options)\n",
    "    v = random.choice(sets[i])\n",
    "    sets[i].remove(v)\n",
    "    return v\n",
    "\n",
    "def random_min_degree_vertex(sets, graph, v1):\n",
    "    done = False\n",
    "    min_degree = 0\n",
    "    while not done:\n",
    "        if sets[min_degree]:\n",
    "            options = [x for x in sets[min_degree] if x not in graph[v1]]\n",
    "            if options:\n",
    "                v2 = random.choice(options)\n",
    "                done = True\n",
    "            else:\n",
    "                min_degree = min_degree+1\n",
    "        else:\n",
    "            min_degree = min_degree+1\n",
    "    sets[min_degree].remove(v2)\n",
    "    return v2\n",
    "            \n",
    "\n",
    "def create_random_graph(n, r):\n",
    "    regular_graph = nx.Graph()\n",
    "    if n*r % 2 != 0:\n",
    "        print(\"n*r needs to be even!\")\n",
    "        return\n",
    "    for i in range(n):\n",
    "        regular_graph.add_node(i+1)\n",
    "    graph = {i+1:[] for i in range(n)}\n",
    "    sets = [[] for _ in range(r)]\n",
    "    sets[0] = [i+1 for i in range(n)]\n",
    "    while len(sets[r-1]) < n-1:\n",
    "        v1 = random_vertex(sets, r)\n",
    "        l = r - len(graph[v1])\n",
    "        for i in range(l):\n",
    "            v2 = random_min_degree_vertex(sets, graph, v1)\n",
    "            graph[v1].append(v2)\n",
    "            graph[v2].append(v1)\n",
    "            v2_degree = len(graph[v2]) - 1\n",
    "            sets[v2_degree].append(v2)\n",
    "            regular_graph.add_edge(v1,v2)\n",
    "        sets[r-1].append(v1)\n",
    "    return regular_graph\n",
    "\n",
    "# these two function check the \"Direct\" Connectivity between each pair of nodes using Networkx 'neighbors' function\n",
    "def nodes_connected(G, u, v):\n",
    "    return u in G.neighbors(v)\n",
    "\n",
    "# Calculating Adjacency Matrix for given graph G\n",
    "def create_adjacency_matrix(G, n, reg=True):\n",
    "    _add = 1 if reg else 0\n",
    "    return np.array([[1 if nodes_connected(G, i+_add, j+_add) \\\n",
    "                        else 0 for i in range(n)]  for j in range(n)], dtype=\"float\")\n",
    "\n",
    "# Calculating Laplacian Matrix of given graph G\n",
    "def create_laplacian_matrix(G, n, reg=True):\n",
    "    _add = 1 if reg else 0\n",
    "    return np.array([[-1 if nodes_connected(G, i+_add, j+_add) \\\n",
    "                        else G.degree(j+_add) if i==j else 0 for i in range(n)]  for j in range(n)], dtype=\"float\")\n",
    "\n",
    "def bfs(G, root):\n",
    "    node = {i: {\"distance\":float('Inf'), \"parent\":None} for i in G.nodes()}\n",
    "    q = Queue()\n",
    "    node[root]['distance'] = 0\n",
    "    q.put(root)\n",
    "    while not q.empty():\n",
    "        current = q.get()\n",
    "        for n in G.neighbors(current):\n",
    "            if node[n]['distance'] == float('Inf'):\n",
    "                node[n]['distance'] = node[current]['distance'] + 1\n",
    "                node[n]['parent'] = current\n",
    "                q.put(n)\n",
    "    return node\n",
    "\n",
    "def is_connected_bfs(G, root):\n",
    "    res = bfs(G, root)\n",
    "    for k, v in res.items():\n",
    "        if k != root and v['parent'] is None:\n",
    "            return 0\n",
    "    return 1\n",
    "\n",
    "def prob_erdos_graph(n, p, num_simulations=1000):\n",
    "    return [(prob, sum([is_connected_bfs(create_erdos_graph(n, prob), 0) \\\n",
    "                          for _ in range(num_simulations)])/num_simulations) for prob in p]\n",
    "\n",
    "def prob_regular_graph(n, r, num_simulations=1000):\n",
    "    results = []\n",
    "    for _r in r:\n",
    "        connected = []\n",
    "        working_simulations = 0\n",
    "        for _ in range(num_simulations):\n",
    "            try:\n",
    "                connected.append(is_connected_bfs(create_random_graph(n, _r), 1))\n",
    "                working_simulations += 1\n",
    "            except:\n",
    "                pass\n",
    "        results.append((_r, sum(connected)/working_simulations))\n",
    "    return results\n",
    "\n",
    "\n",
    "def check_node(graph, node: int):\n",
    "        '''\n",
    "        Check if node exists on graph.\n",
    "        Args:\n",
    "            node: id of the node to be checked\n",
    "        Return:\n",
    "            True if node exists on graph, false otherwise\n",
    "        '''\n",
    "        try:\n",
    "            graph.node[node]\n",
    "            return True\n",
    "        except KeyError:\n",
    "            return False\n",
    "\n",
    "def shortest_path(start: int, graph: nx.Graph, finish=None):\n",
    "        '''\n",
    "        Dijkstra algorithm for finding the shortest path.\n",
    "        If finish is not set it finds the the shortest path between start and\n",
    "        all the other nodes in graph.\n",
    "        Args:\n",
    "            start: The root node to find the shortest path from\n",
    "            graph: The graph object to look for the shortest path\n",
    "            finish (int): The destination node to find the shortest path\n",
    "        Returns:\n",
    "            A tuple where element 0 dict is the shortest path between start\n",
    "            and all the other nodes, and element 1 is a dict with the node as\n",
    "            a key and the value is the previous node on the path to that node.\n",
    "            If finish is given the iteration stops when finds finish but it still\n",
    "            returns the same tuple\n",
    "        '''\n",
    "\n",
    "        distances = {}\n",
    "        prev = {}\n",
    "        for node in graph.nodes():\n",
    "            distances[node] = float('inf')\n",
    "        distances[start] = 0\n",
    "        if not check_node(graph, start) or finish is not None and not check_node(graph, finish):\n",
    "            return distances, None\n",
    "        p_queue = []\n",
    "        hp.heappush(p_queue, (0, start))\n",
    "        visited = set()\n",
    "        while p_queue:\n",
    "            dist, node = hp.heappop(p_queue)\n",
    "            if finish is not None:\n",
    "                if node == finish:\n",
    "                    return distances, prev\n",
    "            if node not in visited:\n",
    "                visited.add(node)\n",
    "                for edge in graph.edges(node, data=True):\n",
    "                    neighbour = edge[1]\n",
    "                    weigth = 1\n",
    "                    _dist = dist + weigth\n",
    "                    if _dist < distances[neighbour]:\n",
    "                        distances[neighbour] = _dist\n",
    "                        prev[neighbour] = node\n",
    "                    if neighbour not in visited:\n",
    "                        hp.heappush(p_queue, (_dist, neighbour))\n",
    "        return distances, prev\n",
    "\n",
    "def generate_path(source, prev):\n",
    "    res = {source:{k:[] for k in prev}}\n",
    "    for key in prev:\n",
    "        prev_key = prev[key]\n",
    "        while prev_key != source:\n",
    "            res[source][key].append(prev_key)\n",
    "            prev_key = prev[prev_key]\n",
    "        res[source][key].append(source)\n",
    "    return res\n",
    "\n",
    "def shortest_routes_hbar(graph):\n",
    "    shortest_paths = {}\n",
    "    avgs_distances = 0\n",
    "    for node in graph.nodes():\n",
    "        dist, prev = shortest_path(graph=graph, start=node)\n",
    "        avgs_distances += sum(dist.values())/len(dist)\n",
    "        shortest_paths[node] = generate_path(node, prev)[node]\n",
    "    h_bar = avgs_distances/(len(graph.nodes())-1)\n",
    "    return shortest_paths, h_bar\n",
    "\n",
    "def th_n(n, num_simulations=10, erdos=True):\n",
    "    result = []\n",
    "    for i in tqdm.tqdm(n):\n",
    "        number_of_edges = 0\n",
    "        h_bar_sum = 0\n",
    "        for _ in range(num_simulations):\n",
    "            if erdos:\n",
    "                p = 8/(i-1)\n",
    "                graph = create_erdos_graph(i, p)\n",
    "            else:\n",
    "                r = 8\n",
    "                graph = create_random_graph(i, r)\n",
    "            _, h_bar = shortest_routes_hbar(graph)\n",
    "            number_of_edges += graph.number_of_edges()\n",
    "            h_bar_sum += h_bar\n",
    "        avg_num_edges = number_of_edges/num_simulations\n",
    "        avg_h_bar = h_bar_sum/num_simulations\n",
    "        th_bound = avg_num_edges/(avg_h_bar*(i*(i-1)/2))\n",
    "        result.append((i, th_bound))\n",
    "    return result\n",
    "\n",
    "def th_q(q, num_simulations=10, erdos=True):\n",
    "    result = []\n",
    "    for i in tqdm.tqdm(q):\n",
    "        number_of_edges = 0\n",
    "        h_bar_sum = 0\n",
    "        for _ in range(num_simulations):\n",
    "            if erdos:\n",
    "                p = 8/99\n",
    "                graph = create_erdos_graph(100, p)\n",
    "            else:\n",
    "                r = 8\n",
    "                graph = create_random_graph(100, r)\n",
    "            \n",
    "            ## Test if link breaks\n",
    "            for edge in graph.edges():\n",
    "                randn = random.uniform(0, 1)\n",
    "                if randn <= i:\n",
    "                    graph.remove_edge(edge[0], edge[1])\n",
    "    \n",
    "            _, h_bar = shortest_routes_hbar(graph)\n",
    "            number_of_edges += graph.number_of_edges()\n",
    "            h_bar_sum += h_bar\n",
    "        \n",
    "        avg_num_edges = number_of_edges/num_simulations\n",
    "        avg_h_bar = h_bar_sum/num_simulations\n",
    "        th_bound = avg_num_edges/(avg_h_bar*(100*(100-1)/2))\n",
    "        result.append((i, th_bound))\n",
    "    return result"
   ]
  },
  {
   "cell_type": "code",
   "execution_count": 3,
   "metadata": {},
   "outputs": [
    {
     "name": "stdout",
     "output_type": "stream",
     "text": [
      "Enter Number of Nodes: 10\n",
      "Enter P value: 0.2\n",
      "Enter r to create r-Regular Graph: 8\n"
     ]
    }
   ],
   "source": [
    "n = int(input('Enter Number of Nodes: '))\n",
    "p = float(input('Enter P value: '))\n",
    "r = int(input('Enter r to create r-Regular Graph: '))"
   ]
  },
  {
   "cell_type": "code",
   "execution_count": 4,
   "metadata": {},
   "outputs": [],
   "source": [
    "erdos_graph = create_erdos_graph(n, p)\n",
    "regular_graph = create_random_graph(n, r)"
   ]
  },
  {
   "cell_type": "code",
   "execution_count": 6,
   "metadata": {},
   "outputs": [
    {
     "data": {
      "image/png": "[encoded data removed]",
      "text/plain": [
       "<Figure size 432x288 with 1 Axes>"
      ]
     },
     "metadata": {},
     "output_type": "display_data"
    }
   ],
   "source": [
    "import warnings\n",
    "nx.draw(erdos_graph)\n",
    "plt.show()\n",
    "warnings.filterwarnings('ignore')"
   ]
  },
  {
   "cell_type": "code",
   "execution_count": 7,
   "metadata": {},
   "outputs": [
    {
     "data": {
      "image/png": "[encoded data removed]",
      "text/plain": [
       "<Figure size 432x288 with 1 Axes>"
      ]
     },
     "metadata": {},
     "output_type": "display_data"
    }
   ],
   "source": [
    "nx.draw(regular_graph)\n",
    "plt.show()"
   ]
  },
  {
   "cell_type": "markdown",
   "metadata": {},
   "source": [
    "# Check Connectivity of matrix using Irreducibility"
   ]
  },
  {
   "cell_type": "code",
   "execution_count": 8,
   "metadata": {},
   "outputs": [],
   "source": [
    "erdos_matrix = create_adjacency_matrix(erdos_graph, n, False)\n",
    "regular_matrix = create_adjacency_matrix(regular_graph, n, True)"
   ]
  },
  {
   "cell_type": "code",
   "execution_count": 9,
   "metadata": {},
   "outputs": [
    {
     "name": "stdout",
     "output_type": "stream",
     "text": [
      "[[ 37166.  51031.   9562.  24106.  24754.      0.  11427.  16827.   4415.\n",
      "   41989.]\n",
      " [ 51031.  70453.  13372.  33456.  34628.      0.  16403.  22934.   6531.\n",
      "   57562.]\n",
      " [  9562.  13372.   2807.   6629.   6531.      0.   3031.   4203.   1172.\n",
      "   10734.]\n",
      " [ 24106.  33456.   6629.  16179.  16403.      0.   7703.  10734.   3031.\n",
      "   27137.]\n",
      " [ 24754.  34628.   6531.  16403.  17869.      0.   9263.  10946.   4061.\n",
      "   27830.]\n",
      " [     0.      0.      0.      0.      0.      0.      0.      0.      0.\n",
      "       0.]\n",
      " [ 11427.  16403.   3031.   7703.   9263.      0.   5527.   4896.   2732.\n",
      "   12766.]\n",
      " [ 16827.  22934.   4203.  10734.  10946.      0.   4896.   7701.   1820.\n",
      "   19055.]\n",
      " [  4415.   6531.   1172.   3031.   4061.      0.   2732.   1820.   1466.\n",
      "    4896.]\n",
      " [ 41989.  57562.  10734.  27137.  27830.      0.  12766.  19055.   4896.\n",
      "   47462.]]\n",
      "[[  3.09936392e+08   3.09936392e+08   3.09936391e+08   3.09936391e+08\n",
      "    3.09936391e+08   3.09936391e+08   3.09936391e+08   3.09936391e+08\n",
      "    3.09936391e+08   3.09936391e+08]\n",
      " [  3.09936392e+08   3.09936392e+08   3.09936391e+08   3.09936391e+08\n",
      "    3.09936391e+08   3.09936391e+08   3.09936391e+08   3.09936391e+08\n",
      "    3.09936391e+08   3.09936391e+08]\n",
      " [  3.09936391e+08   3.09936391e+08   3.09936392e+08   3.09936392e+08\n",
      "    3.09936391e+08   3.09936391e+08   3.09936391e+08   3.09936391e+08\n",
      "    3.09936391e+08   3.09936391e+08]\n",
      " [  3.09936391e+08   3.09936391e+08   3.09936392e+08   3.09936392e+08\n",
      "    3.09936391e+08   3.09936391e+08   3.09936391e+08   3.09936391e+08\n",
      "    3.09936391e+08   3.09936391e+08]\n",
      " [  3.09936391e+08   3.09936391e+08   3.09936391e+08   3.09936391e+08\n",
      "    3.09936392e+08   3.09936391e+08   3.09936391e+08   3.09936391e+08\n",
      "    3.09936391e+08   3.09936392e+08]\n",
      " [  3.09936391e+08   3.09936391e+08   3.09936391e+08   3.09936391e+08\n",
      "    3.09936391e+08   3.09936392e+08   3.09936391e+08   3.09936391e+08\n",
      "    3.09936392e+08   3.09936391e+08]\n",
      " [  3.09936391e+08   3.09936391e+08   3.09936391e+08   3.09936391e+08\n",
      "    3.09936391e+08   3.09936391e+08   3.09936392e+08   3.09936392e+08\n",
      "    3.09936391e+08   3.09936391e+08]\n",
      " [  3.09936391e+08   3.09936391e+08   3.09936391e+08   3.09936391e+08\n",
      "    3.09936391e+08   3.09936391e+08   3.09936392e+08   3.09936392e+08\n",
      "    3.09936391e+08   3.09936391e+08]\n",
      " [  3.09936391e+08   3.09936391e+08   3.09936391e+08   3.09936391e+08\n",
      "    3.09936391e+08   3.09936392e+08   3.09936391e+08   3.09936391e+08\n",
      "    3.09936392e+08   3.09936391e+08]\n",
      " [  3.09936391e+08   3.09936391e+08   3.09936391e+08   3.09936391e+08\n",
      "    3.09936392e+08   3.09936391e+08   3.09936391e+08   3.09936391e+08\n",
      "    3.09936391e+08   3.09936392e+08]]\n"
     ]
    }
   ],
   "source": [
    "# Caclulating Irreducibility of Adjacency Matrix, (If I + A + A^2 + ... + A^n-1 > 0 then A is Irreducibile which\n",
    "# means our Graph is connected)\n",
    "res_erdos_matrix = erdos_matrix.copy()\n",
    "res_regular_matrix = regular_matrix.copy()\n",
    "for i in range(n-1):\n",
    "    res_erdos_matrix += np.matmul(res_erdos_matrix, erdos_matrix)\n",
    "    res_regular_matrix += np.matmul(res_regular_matrix, regular_matrix)\n",
    "    \n",
    "print(res_erdos_matrix)\n",
    "print(res_regular_matrix)"
   ]
  },
  {
   "cell_type": "code",
   "execution_count": 13,
   "metadata": {},
   "outputs": [
    {
     "name": "stdout",
     "output_type": "stream",
     "text": [
      "True\n",
      "False\n"
     ]
    }
   ],
   "source": [
    "print(np.all(res_erdos_matrix > 0))\n",
    "print(np.all(res_regular_matrix > 0))"
   ]
  },
  {
   "cell_type": "markdown",
   "metadata": {},
   "source": [
    "# Check the connectivity of matrix using eigenvalue of the Laplacian matrix"
   ]
  },
  {
   "cell_type": "code",
   "execution_count": 14,
   "metadata": {
    "collapsed": true
   },
   "outputs": [],
   "source": [
    "erdos_laplacian = create_laplacian_matrix(erdos_graph, n, False)\n",
    "regular_laplacian = create_laplacian_matrix(regular_graph, n, True)"
   ]
  },
  {
   "cell_type": "code",
   "execution_count": 15,
   "metadata": {
    "collapsed": true
   },
   "outputs": [],
   "source": [
    "# Calculating Eigenvals Vector of Laplacian matrix of represented Erdos Renyi Graph\n",
    "erdos_eigen = np.linalg.eigvals(erdos_laplacian)\n",
    "regular_eigen = np.linalg.eigvals(regular_laplacian)"
   ]
  },
  {
   "cell_type": "code",
   "execution_count": 16,
   "metadata": {},
   "outputs": [
    {
     "name": "stdout",
     "output_type": "stream",
     "text": [
      "False\n",
      "True\n"
     ]
    }
   ],
   "source": [
    "# Since, the Second smallest eigenvalue in this vector is positive, our graph is connected\n",
    "regular_eigen.sort()\n",
    "erdos_eigen.sort()\n",
    "print(regular_eigen[1] > 0)\n",
    "print(erdos_eigen[1] > 0)"
   ]
  },
  {
   "cell_type": "code",
   "execution_count": 17,
   "metadata": {
    "collapsed": true
   },
   "outputs": [],
   "source": [
    "erdos_bfs = bfs(erdos_graph, 0)\n",
    "regular_bfs = bfs(regular_graph, 1)"
   ]
  },
  {
   "cell_type": "code",
   "execution_count": 18,
   "metadata": {},
   "outputs": [
    {
     "data": {
      "text/plain": [
       "{1: {'distance': 0, 'parent': None},\n",
       " 2: {'distance': 22, 'parent': 22},\n",
       " 3: {'distance': inf, 'parent': None},\n",
       " 4: {'distance': 21, 'parent': 7},\n",
       " 5: {'distance': 32, 'parent': 51},\n",
       " 6: {'distance': inf, 'parent': None},\n",
       " 7: {'distance': 20, 'parent': 91},\n",
       " 8: {'distance': 25, 'parent': 87},\n",
       " 9: {'distance': 16, 'parent': 39},\n",
       " 10: {'distance': 4, 'parent': 83},\n",
       " 11: {'distance': 3, 'parent': 23},\n",
       " 12: {'distance': 27, 'parent': 94},\n",
       " 13: {'distance': inf, 'parent': None},\n",
       " 14: {'distance': 19, 'parent': 38},\n",
       " 15: {'distance': inf, 'parent': None},\n",
       " 16: {'distance': 6, 'parent': 77},\n",
       " 17: {'distance': 39, 'parent': 93},\n",
       " 18: {'distance': inf, 'parent': None},\n",
       " 19: {'distance': 9, 'parent': 71},\n",
       " 20: {'distance': 1, 'parent': 1},\n",
       " 21: {'distance': inf, 'parent': None},\n",
       " 22: {'distance': 21, 'parent': 26},\n",
       " 23: {'distance': 2, 'parent': 20},\n",
       " 24: {'distance': 33, 'parent': 5},\n",
       " 25: {'distance': 2, 'parent': 50},\n",
       " 26: {'distance': 20, 'parent': 14},\n",
       " 27: {'distance': 16, 'parent': 75},\n",
       " 28: {'distance': 18, 'parent': 67},\n",
       " 29: {'distance': 13, 'parent': 88},\n",
       " 30: {'distance': 28, 'parent': 12},\n",
       " 31: {'distance': 38, 'parent': 42},\n",
       " 32: {'distance': 27, 'parent': 43},\n",
       " 33: {'distance': 7, 'parent': 16},\n",
       " 34: {'distance': 23, 'parent': 2},\n",
       " 35: {'distance': 30, 'parent': 80},\n",
       " 36: {'distance': 37, 'parent': 72},\n",
       " 37: {'distance': 10, 'parent': 19},\n",
       " 38: {'distance': 18, 'parent': 40},\n",
       " 39: {'distance': 15, 'parent': 65},\n",
       " 40: {'distance': 17, 'parent': 9},\n",
       " 41: {'distance': 41, 'parent': 74},\n",
       " 42: {'distance': 37, 'parent': 44},\n",
       " 43: {'distance': 26, 'parent': 55},\n",
       " 44: {'distance': 36, 'parent': 90},\n",
       " 45: {'distance': inf, 'parent': None},\n",
       " 46: {'distance': 4, 'parent': 11},\n",
       " 47: {'distance': inf, 'parent': None},\n",
       " 48: {'distance': 29, 'parent': 30},\n",
       " 49: {'distance': 30, 'parent': 48},\n",
       " 50: {'distance': 1, 'parent': 1},\n",
       " 51: {'distance': 31, 'parent': 35},\n",
       " 52: {'distance': inf, 'parent': None},\n",
       " 53: {'distance': 12, 'parent': 76},\n",
       " 54: {'distance': 6, 'parent': 97},\n",
       " 55: {'distance': 25, 'parent': 58},\n",
       " 56: {'distance': 32, 'parent': 84},\n",
       " 57: {'distance': 34, 'parent': 85},\n",
       " 58: {'distance': 24, 'parent': 78},\n",
       " 59: {'distance': 39, 'parent': 31},\n",
       " 60: {'distance': 10, 'parent': 96},\n",
       " 61: {'distance': inf, 'parent': None},\n",
       " 62: {'distance': inf, 'parent': None},\n",
       " 63: {'distance': inf, 'parent': None},\n",
       " 64: {'distance': 14, 'parent': 29},\n",
       " 65: {'distance': 14, 'parent': 66},\n",
       " 66: {'distance': 13, 'parent': 53},\n",
       " 67: {'distance': 17, 'parent': 27},\n",
       " 68: {'distance': 35, 'parent': 57},\n",
       " 69: {'distance': inf, 'parent': None},\n",
       " 70: {'distance': inf, 'parent': None},\n",
       " 71: {'distance': 8, 'parent': 81},\n",
       " 72: {'distance': 36, 'parent': 68},\n",
       " 73: {'distance': 22, 'parent': 4},\n",
       " 74: {'distance': 40, 'parent': 59},\n",
       " 75: {'distance': 15, 'parent': 64},\n",
       " 76: {'distance': 11, 'parent': 37},\n",
       " 77: {'distance': 5, 'parent': 10},\n",
       " 78: {'distance': 23, 'parent': 73},\n",
       " 79: {'distance': inf, 'parent': None},\n",
       " 80: {'distance': 29, 'parent': 86},\n",
       " 81: {'distance': 7, 'parent': 54},\n",
       " 82: {'distance': 8, 'parent': 33},\n",
       " 83: {'distance': 3, 'parent': 25},\n",
       " 84: {'distance': 31, 'parent': 49},\n",
       " 85: {'distance': 33, 'parent': 56},\n",
       " 86: {'distance': 28, 'parent': 32},\n",
       " 87: {'distance': 24, 'parent': 34},\n",
       " 88: {'distance': 12, 'parent': 99},\n",
       " 89: {'distance': 34, 'parent': 24},\n",
       " 90: {'distance': 35, 'parent': 89},\n",
       " 91: {'distance': 19, 'parent': 28},\n",
       " 92: {'distance': inf, 'parent': None},\n",
       " 93: {'distance': 38, 'parent': 36},\n",
       " 94: {'distance': 26, 'parent': 8},\n",
       " 95: {'distance': inf, 'parent': None},\n",
       " 96: {'distance': 9, 'parent': 82},\n",
       " 97: {'distance': 5, 'parent': 46},\n",
       " 98: {'distance': 40, 'parent': 17},\n",
       " 99: {'distance': 11, 'parent': 60},\n",
       " 100: {'distance': inf, 'parent': None}}"
      ]
     },
     "execution_count": 18,
     "metadata": {},
     "output_type": "execute_result"
    }
   ],
   "source": [
    "regular_bfs"
   ]
  },
  {
   "cell_type": "code",
   "execution_count": 19,
   "metadata": {},
   "outputs": [
    {
     "data": {
      "text/plain": [
       "{0: {'distance': 0, 'parent': None},\n",
       " 1: {'distance': 2, 'parent': 6},\n",
       " 2: {'distance': 2, 'parent': 6},\n",
       " 3: {'distance': 2, 'parent': 14},\n",
       " 4: {'distance': 2, 'parent': 22},\n",
       " 5: {'distance': 2, 'parent': 6},\n",
       " 6: {'distance': 1, 'parent': 0},\n",
       " 7: {'distance': 2, 'parent': 22},\n",
       " 8: {'distance': 2, 'parent': 10},\n",
       " 9: {'distance': 2, 'parent': 10},\n",
       " 10: {'distance': 1, 'parent': 0},\n",
       " 11: {'distance': 2, 'parent': 12},\n",
       " 12: {'distance': 1, 'parent': 0},\n",
       " 13: {'distance': 2, 'parent': 6},\n",
       " 14: {'distance': 1, 'parent': 0},\n",
       " 15: {'distance': 1, 'parent': 0},\n",
       " 16: {'distance': 2, 'parent': 10},\n",
       " 17: {'distance': 2, 'parent': 10},\n",
       " 18: {'distance': 1, 'parent': 0},\n",
       " 19: {'distance': 2, 'parent': 18},\n",
       " 20: {'distance': 2, 'parent': 15},\n",
       " 21: {'distance': 2, 'parent': 18},\n",
       " 22: {'distance': 1, 'parent': 0},\n",
       " 23: {'distance': 2, 'parent': 14},\n",
       " 24: {'distance': 2, 'parent': 14},\n",
       " 25: {'distance': 2, 'parent': 14},\n",
       " 26: {'distance': 1, 'parent': 0},\n",
       " 27: {'distance': 2, 'parent': 26},\n",
       " 28: {'distance': 1, 'parent': 0},\n",
       " 29: {'distance': 1, 'parent': 0},\n",
       " 30: {'distance': 2, 'parent': 57},\n",
       " 31: {'distance': 2, 'parent': 6},\n",
       " 32: {'distance': 1, 'parent': 0},\n",
       " 33: {'distance': 2, 'parent': 15},\n",
       " 34: {'distance': 2, 'parent': 57},\n",
       " 35: {'distance': 2, 'parent': 14},\n",
       " 36: {'distance': 2, 'parent': 10},\n",
       " 37: {'distance': 2, 'parent': 12},\n",
       " 38: {'distance': 2, 'parent': 14},\n",
       " 39: {'distance': 2, 'parent': 28},\n",
       " 40: {'distance': 2, 'parent': 6},\n",
       " 41: {'distance': 2, 'parent': 10},\n",
       " 42: {'distance': 1, 'parent': 0},\n",
       " 43: {'distance': 2, 'parent': 12},\n",
       " 44: {'distance': 2, 'parent': 6},\n",
       " 45: {'distance': 2, 'parent': 15},\n",
       " 46: {'distance': 2, 'parent': 10},\n",
       " 47: {'distance': 2, 'parent': 12},\n",
       " 48: {'distance': 2, 'parent': 6},\n",
       " 49: {'distance': 1, 'parent': 0},\n",
       " 50: {'distance': 2, 'parent': 10},\n",
       " 51: {'distance': 2, 'parent': 12},\n",
       " 52: {'distance': 2, 'parent': 15},\n",
       " 53: {'distance': 2, 'parent': 10},\n",
       " 54: {'distance': 2, 'parent': 22},\n",
       " 55: {'distance': 2, 'parent': 10},\n",
       " 56: {'distance': 2, 'parent': 12},\n",
       " 57: {'distance': 1, 'parent': 0},\n",
       " 58: {'distance': 2, 'parent': 42},\n",
       " 59: {'distance': 1, 'parent': 0},\n",
       " 60: {'distance': 2, 'parent': 10},\n",
       " 61: {'distance': 2, 'parent': 6},\n",
       " 62: {'distance': 2, 'parent': 10},\n",
       " 63: {'distance': 2, 'parent': 10},\n",
       " 64: {'distance': 2, 'parent': 28},\n",
       " 65: {'distance': 2, 'parent': 14},\n",
       " 66: {'distance': 2, 'parent': 6},\n",
       " 67: {'distance': 1, 'parent': 0},\n",
       " 68: {'distance': 2, 'parent': 22},\n",
       " 69: {'distance': 2, 'parent': 10},\n",
       " 70: {'distance': 1, 'parent': 0},\n",
       " 71: {'distance': 1, 'parent': 0},\n",
       " 72: {'distance': 2, 'parent': 6},\n",
       " 73: {'distance': 2, 'parent': 12},\n",
       " 74: {'distance': 2, 'parent': 10},\n",
       " 75: {'distance': 2, 'parent': 22},\n",
       " 76: {'distance': 1, 'parent': 0},\n",
       " 77: {'distance': 2, 'parent': 12},\n",
       " 78: {'distance': 2, 'parent': 12},\n",
       " 79: {'distance': 2, 'parent': 6},\n",
       " 80: {'distance': 1, 'parent': 0},\n",
       " 81: {'distance': 1, 'parent': 0},\n",
       " 82: {'distance': 1, 'parent': 0},\n",
       " 83: {'distance': 2, 'parent': 10},\n",
       " 84: {'distance': 2, 'parent': 10},\n",
       " 85: {'distance': 2, 'parent': 12},\n",
       " 86: {'distance': 2, 'parent': 12},\n",
       " 87: {'distance': 1, 'parent': 0},\n",
       " 88: {'distance': 2, 'parent': 14},\n",
       " 89: {'distance': 1, 'parent': 0},\n",
       " 90: {'distance': 1, 'parent': 0},\n",
       " 91: {'distance': 2, 'parent': 12},\n",
       " 92: {'distance': 1, 'parent': 0},\n",
       " 93: {'distance': 1, 'parent': 0},\n",
       " 94: {'distance': 2, 'parent': 10},\n",
       " 95: {'distance': 2, 'parent': 10},\n",
       " 96: {'distance': 2, 'parent': 22},\n",
       " 97: {'distance': 2, 'parent': 42},\n",
       " 98: {'distance': 2, 'parent': 12},\n",
       " 99: {'distance': 1, 'parent': 0}}"
      ]
     },
     "execution_count": 19,
     "metadata": {},
     "output_type": "execute_result"
    }
   ],
   "source": [
    "erdos_bfs"
   ]
  },
  {
   "cell_type": "markdown",
   "metadata": {},
   "source": [
    "Irreducibility and Eigenvalue of the Laplacian matrix is O($n^2$) and BFS for the regular graph, the complexity is $O(n + \\frac{n*r}{2} = O(n*r))$ where $\\frac{n*r}{2}$ is the number of Edges, for the regular graph the complexity is $O(n+\\frac{n(n-1)}{2}*p) = O(n^2*p)$"
   ]
  },
  {
   "cell_type": "code",
   "execution_count": 20,
   "metadata": {
    "collapsed": true
   },
   "outputs": [],
   "source": [
    "p_space = np.append(np.linspace(0, 0.05, 20), np.linspace(0.1, 1, 10))\n",
    "erdos_probs = prob_erdos_graph(100, p_space)"
   ]
  },
  {
   "cell_type": "code",
   "execution_count": 21,
   "metadata": {
    "collapsed": true
   },
   "outputs": [],
   "source": [
    "random_probs = prob_regular_graph(100, [2,4,8,16])"
   ]
  },
  {
   "cell_type": "code",
   "execution_count": 22,
   "metadata": {},
   "outputs": [
    {
     "data": {
      "image/png": "[encoded data removed]",
      "text/plain": [
       "<matplotlib.figure.Figure at 0x7f41cc8c7f60>"
      ]
     },
     "metadata": {},
     "output_type": "display_data"
    }
   ],
   "source": [
    "plt.plot(*zip(*erdos_probs))\n",
    "\n",
    "plt.show()"
   ]
  },
  {
   "cell_type": "code",
   "execution_count": 23,
   "metadata": {},
   "outputs": [
    {
     "data": {
      "image/png": "[encoded data removed]",
      "text/plain": [
       "<matplotlib.figure.Figure at 0x7f41c93ef860>"
      ]
     },
     "metadata": {},
     "output_type": "display_data"
    }
   ],
   "source": [
    "plt.plot(*zip(*random_probs))\n",
    "plt.show()"
   ]
  },
  {
   "cell_type": "markdown",
   "metadata": {},
   "source": [
    "## Part 2"
   ]
  },
  {
   "cell_type": "markdown",
   "metadata": {},
   "source": [
    "### 2.1 Throughput performance"
   ]
  },
  {
   "cell_type": "code",
   "execution_count": 24,
   "metadata": {
    "collapsed": true
   },
   "outputs": [],
   "source": [
    "# generating random graphs describing the topology of the ToR switch network\n",
    "tor_erdos = create_erdos_graph(100, 8/99)\n",
    "tor_regular = create_random_graph(100, 8)"
   ]
  },
  {
   "cell_type": "markdown",
   "metadata": {},
   "source": [
    "## Check connectivity"
   ]
  },
  {
   "cell_type": "code",
   "execution_count": 25,
   "metadata": {},
   "outputs": [
    {
     "data": {
      "text/plain": [
       "1"
      ]
     },
     "execution_count": 25,
     "metadata": {},
     "output_type": "execute_result"
    }
   ],
   "source": [
    "is_connected_bfs(tor_erdos, 0)"
   ]
  },
  {
   "cell_type": "code",
   "execution_count": 26,
   "metadata": {},
   "outputs": [
    {
     "data": {
      "text/plain": [
       "1"
      ]
     },
     "execution_count": 26,
     "metadata": {},
     "output_type": "execute_result"
    }
   ],
   "source": [
    "is_connected_bfs(tor_regular, 1)"
   ]
  },
  {
   "cell_type": "markdown",
   "metadata": {},
   "source": [
    "## Find shortest path routes and estimate h-bar"
   ]
  },
  {
   "cell_type": "code",
   "execution_count": 27,
   "metadata": {
    "collapsed": true
   },
   "outputs": [],
   "source": [
    "shortest_paths_erdos, h_bar_erdos = shortest_routes_hbar(tor_erdos)\n",
    "shortest_paths_regular, h_bar_regular = shortest_routes_hbar(tor_regular)"
   ]
  },
  {
   "cell_type": "markdown",
   "metadata": {},
   "source": [
    "## TH bound"
   ]
  },
  {
   "cell_type": "markdown",
   "metadata": {},
   "source": [
    "The application-oblivious throughput bounds states that $TH \\le \\frac{m}{(\\bar{h} v_f)}$, where *m* is the number of links of the network graph, $\\bar{h}$ is the mean path length and $ν_f$ is the number of flows.<br />\n",
    "Assuming an all-to-all traffic matrix: then $v_f = \\frac{n(n - 1)}{2}$ <br />\n",
    "In case of *r-regular* random graph, the number of links is $m = \\frac{nr}{2}$ and In case of *p-ER* graph, the number of links is an outcome of the random generation, hence it is a random variable with mean $m = \\frac{pn(n − 1)}{2}$"
   ]
  },
  {
   "cell_type": "code",
   "execution_count": 29,
   "metadata": {},
   "outputs": [
    {
     "name": "stderr",
     "output_type": "stream",
     "text": [
      "100%|██████████| 91/91 [00:36<00:00,  1.04s/it]\n",
      "100%|██████████| 91/91 [00:38<00:00,  1.14s/it]\n"
     ]
    }
   ],
   "source": [
    "erdos_th_bound = th_n(range(9,100), erdos=True)\n",
    "regular_th_bound = th_n(range(9,100), erdos=False)"
   ]
  },
  {
   "cell_type": "code",
   "execution_count": 30,
   "metadata": {},
   "outputs": [
    {
     "data": {
      "image/png": "[encoded data removed]",
      "text/plain": [
       "<matplotlib.figure.Figure at 0x7fe711e96198>"
      ]
     },
     "metadata": {},
     "output_type": "display_data"
    }
   ],
   "source": [
    "plt.plot(*zip(*erdos_th_bound))\n",
    "plt.plot(*zip(*regular_th_bound))\n",
    "\n",
    "plt.show()"
   ]
  },
  {
   "cell_type": "markdown",
   "metadata": {},
   "source": [
    "## 2.2 Reliablity Performance"
   ]
  },
  {
   "cell_type": "code",
   "execution_count": 33,
   "metadata": {},
   "outputs": [
    {
     "name": "stderr",
     "output_type": "stream",
     "text": [
      "100%|██████████| 22/22 [00:23<00:00,  1.01s/it]\n",
      "100%|██████████| 22/22 [00:23<00:00,  1.04s/it]\n"
     ]
    }
   ],
   "source": [
    "erdos_th_qbound = th_q(np.linspace(0, 0.25, 22), erdos=True)\n",
    "regular_th_qbound = th_q(np.linspace(0, 0.25, 22), erdos=False)"
   ]
  },
  {
   "cell_type": "markdown",
   "metadata": {},
   "source": [
    "Assuming a link can break down (fail) with probability *q* then diagram below illustrates *TH* as a function of *q* for $0 < q \\le 0.25$, (for the two network models in point 1) above with $n = 100$."
   ]
  },
  {
   "cell_type": "code",
   "execution_count": 34,
   "metadata": {},
   "outputs": [
    {
     "data": {
      "image/png": "[encoded data removed]",
      "text/plain": [
       "<matplotlib.figure.Figure at 0x7fe711ed75c0>"
      ]
     },
     "metadata": {},
     "output_type": "display_data"
    }
   ],
   "source": [
    "plt.plot(*zip(*erdos_th_qbound))\n",
    "plt.plot(*zip(*regular_th_qbound))\n",
    "\n",
    "plt.show()"
   ]
  }
 ],
 "metadata": {
  "kernelspec": {
   "display_name": "Python 3",
   "language": "python",
   "name": "python3"
  },
  "language_info": {
   "codemirror_mode": {
    "name": "ipython",
    "version": 3
   },
   "file_extension": ".py",
   "mimetype": "text/x-python",
   "name": "python",
   "nbconvert_exporter": "python",
   "pygments_lexer": "ipython3",
   "version": "3.6.8"
  }
 },
 "nbformat": 4,
 "nbformat_minor": 2
}
